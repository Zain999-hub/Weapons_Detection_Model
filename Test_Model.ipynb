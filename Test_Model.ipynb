{
  "nbformat": 4,
  "nbformat_minor": 0,
  "metadata": {
    "colab": {
      "provenance": [],
      "gpuType": "T4"
    },
    "kernelspec": {
      "name": "python3",
      "display_name": "Python 3"
    },
    "language_info": {
      "name": "python"
    },
    "accelerator": "GPU"
  },
  "cells": [
    {
      "cell_type": "code",
      "execution_count": 1,
      "metadata": {
        "colab": {
          "base_uri": "https://localhost:8080/"
        },
        "id": "dDtUTck7l0Kc",
        "outputId": "7632514b-84ab-4840-b3dc-97e953958ed9"
      },
      "outputs": [
        {
          "output_type": "stream",
          "name": "stdout",
          "text": [
            "Mounted at /content/gdrive\n"
          ]
        }
      ],
      "source": [
        "from google.colab import drive\n",
        "\n",
        "drive.mount('/content/gdrive')"
      ]
    },
    {
      "cell_type": "code",
      "source": [
        "!pip install ultralytics\n",
        "from IPython import display\n",
        "display.clear_output()"
      ],
      "metadata": {
        "id": "b-el3MsdoOX_"
      },
      "execution_count": 2,
      "outputs": []
    },
    {
      "cell_type": "code",
      "source": [
        "from ultralytics import YOLO"
      ],
      "metadata": {
        "id": "WvgxJTMpokZ_"
      },
      "execution_count": 3,
      "outputs": []
    },
    {
      "cell_type": "code",
      "source": [
        "model = YOLO(\"/content/gdrive/MyDrive/Weapons_Detection_Model/WD_Model/weights/best.pt\")"
      ],
      "metadata": {
        "id": "vGJuFtTMoq-l"
      },
      "execution_count": 13,
      "outputs": []
    },
    {
      "cell_type": "code",
      "source": [
        "# Image Test\n",
        "result = model.predict(source=\"/content/test.jpg\", save=True)  # to specify certain confidence on prediction add conf argument (e.g. conf=0.4)"
      ],
      "metadata": {
        "id": "YTEUOtpbtP56"
      },
      "execution_count": null,
      "outputs": []
    },
    {
      "cell_type": "code",
      "source": [
        "# Video Test\n",
        "result = model.predict(source=\"/content/test.mp4\", save=True) # (conf=0.4)"
      ],
      "metadata": {
        "id": "mWl45T9NrFpx"
      },
      "execution_count": null,
      "outputs": []
    },
    {
      "cell_type": "code",
      "source": [
        "# Live detection test (only works locally)\n",
        "result = model.predict(source=0, save=True) # (conf=0.4)"
      ],
      "metadata": {
        "id": "5TabFwhMjKnP"
      },
      "execution_count": null,
      "outputs": []
    }
  ]
}